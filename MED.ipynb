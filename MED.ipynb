{
  "nbformat": 4,
  "nbformat_minor": 0,
  "metadata": {
    "colab": {
      "provenance": []
    },
    "kernelspec": {
      "name": "python3",
      "display_name": "Python 3"
    },
    "language_info": {
      "name": "python"
    }
  },
  "cells": [
    {
      "cell_type": "code",
      "execution_count": null,
      "metadata": {
        "colab": {
          "base_uri": "https://localhost:8080/"
        },
        "id": "rWrAa02s0jFl",
        "outputId": "1df8b1ed-6265-454a-b939-0fa9e811836e"
      },
      "outputs": [
        {
          "output_type": "stream",
          "name": "stdout",
          "text": [
            "0\n"
          ]
        }
      ],
      "source": [
        "def MED(x, y):\n",
        "  n = len(x)\n",
        "  m = len(y)\n",
        "  D = [[0 for i in range(m + 1)] for j in range(n + 1)]\n",
        "  for i in range(1, n + 1):\n",
        "    for j in range(1, m + 1):\n",
        "      if x[i - 1] == y[j - 1]:\n",
        "        D[i][j] = D[i - 1][j - 1]\n",
        "      else:\n",
        "        D[i][j] = min(D[i - 1][j] + 1, D[i][j - 1] + 1, D[i - 1][j - 1] + 2)\n",
        "  return D[n][m]\n",
        "\n",
        "x = ['a', 'b', 'c', 'd', 'e']\n",
        "y = ['a', 'b', 'c', 'd', 'e']\n",
        "print(MED(x, y))"
      ]
    }
  ]
}